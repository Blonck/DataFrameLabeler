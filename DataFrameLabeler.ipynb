{
 "cells": [
  {
   "cell_type": "code",
   "execution_count": 173,
   "metadata": {},
   "outputs": [],
   "source": [
    "import numbers\n",
    "import pandas as pd\n",
    "import numpy as np\n",
    "import matplotlib.pyplot as plt\n",
    "from sklearn.datasets import load_iris\n",
    "\n",
    "from ipywidgets import widgets, Layout\n",
    "from IPython.display import clear_output, display"
   ]
  },
  {
   "cell_type": "code",
   "execution_count": 5,
   "metadata": {},
   "outputs": [],
   "source": [
    "iris = load_iris()"
   ]
  },
  {
   "cell_type": "code",
   "execution_count": 22,
   "metadata": {},
   "outputs": [],
   "source": [
    "df = pd.DataFrame(iris.data, columns=iris.feature_names)\n",
    "df['class'] = iris.target\n",
    "df['class_name'] = df['class'].replace({i: value for i, value in enumerate(iris.target_names)})"
   ]
  },
  {
   "cell_type": "code",
   "execution_count": 23,
   "metadata": {},
   "outputs": [
    {
     "data": {
      "text/html": [
       "<div>\n",
       "<style scoped>\n",
       "    .dataframe tbody tr th:only-of-type {\n",
       "        vertical-align: middle;\n",
       "    }\n",
       "\n",
       "    .dataframe tbody tr th {\n",
       "        vertical-align: top;\n",
       "    }\n",
       "\n",
       "    .dataframe thead th {\n",
       "        text-align: right;\n",
       "    }\n",
       "</style>\n",
       "<table border=\"1\" class=\"dataframe\">\n",
       "  <thead>\n",
       "    <tr style=\"text-align: right;\">\n",
       "      <th></th>\n",
       "      <th>sepal length (cm)</th>\n",
       "      <th>sepal width (cm)</th>\n",
       "      <th>petal length (cm)</th>\n",
       "      <th>petal width (cm)</th>\n",
       "      <th>class</th>\n",
       "      <th>class_name</th>\n",
       "    </tr>\n",
       "  </thead>\n",
       "  <tbody>\n",
       "    <tr>\n",
       "      <th>0</th>\n",
       "      <td>5.1</td>\n",
       "      <td>3.5</td>\n",
       "      <td>1.4</td>\n",
       "      <td>0.2</td>\n",
       "      <td>0</td>\n",
       "      <td>setosa</td>\n",
       "    </tr>\n",
       "    <tr>\n",
       "      <th>1</th>\n",
       "      <td>4.9</td>\n",
       "      <td>3.0</td>\n",
       "      <td>1.4</td>\n",
       "      <td>0.2</td>\n",
       "      <td>0</td>\n",
       "      <td>setosa</td>\n",
       "    </tr>\n",
       "    <tr>\n",
       "      <th>2</th>\n",
       "      <td>4.7</td>\n",
       "      <td>3.2</td>\n",
       "      <td>1.3</td>\n",
       "      <td>0.2</td>\n",
       "      <td>0</td>\n",
       "      <td>setosa</td>\n",
       "    </tr>\n",
       "    <tr>\n",
       "      <th>3</th>\n",
       "      <td>4.6</td>\n",
       "      <td>3.1</td>\n",
       "      <td>1.5</td>\n",
       "      <td>0.2</td>\n",
       "      <td>0</td>\n",
       "      <td>setosa</td>\n",
       "    </tr>\n",
       "    <tr>\n",
       "      <th>4</th>\n",
       "      <td>5.0</td>\n",
       "      <td>3.6</td>\n",
       "      <td>1.4</td>\n",
       "      <td>0.2</td>\n",
       "      <td>0</td>\n",
       "      <td>setosa</td>\n",
       "    </tr>\n",
       "  </tbody>\n",
       "</table>\n",
       "</div>"
      ],
      "text/plain": [
       "   sepal length (cm)  sepal width (cm)  petal length (cm)  petal width (cm)  \\\n",
       "0                5.1               3.5                1.4               0.2   \n",
       "1                4.9               3.0                1.4               0.2   \n",
       "2                4.7               3.2                1.3               0.2   \n",
       "3                4.6               3.1                1.5               0.2   \n",
       "4                5.0               3.6                1.4               0.2   \n",
       "\n",
       "   class class_name  \n",
       "0      0     setosa  \n",
       "1      0     setosa  \n",
       "2      0     setosa  \n",
       "3      0     setosa  \n",
       "4      0     setosa  "
      ]
     },
     "execution_count": 23,
     "metadata": {},
     "output_type": "execute_result"
    }
   ],
   "source": [
    "df.head()"
   ]
  },
  {
   "cell_type": "code",
   "execution_count": 207,
   "metadata": {},
   "outputs": [],
   "source": [
    "it = df.iterrows()"
   ]
  },
  {
   "cell_type": "code",
   "execution_count": 208,
   "metadata": {},
   "outputs": [
    {
     "name": "stdout",
     "output_type": "stream",
     "text": [
      "(0, sepal length (cm)       5.1\n",
      "sepal width (cm)        3.5\n",
      "petal length (cm)       1.4\n",
      "petal width (cm)        0.2\n",
      "class                     0\n",
      "class_name           setosa\n",
      "Name: 0, dtype: object)\n",
      "(1, sepal length (cm)       4.9\n",
      "sepal width (cm)          3\n",
      "petal length (cm)       1.4\n",
      "petal width (cm)        0.2\n",
      "class                     0\n",
      "class_name           setosa\n",
      "Name: 1, dtype: object)\n",
      "(2, sepal length (cm)       4.7\n",
      "sepal width (cm)        3.2\n",
      "petal length (cm)       1.3\n",
      "petal width (cm)        0.2\n",
      "class                     0\n",
      "class_name           setosa\n",
      "Name: 2, dtype: object)\n",
      "(3, sepal length (cm)       4.6\n",
      "sepal width (cm)        3.1\n",
      "petal length (cm)       1.5\n",
      "petal width (cm)        0.2\n",
      "class                     0\n",
      "class_name           setosa\n",
      "Name: 3, dtype: object)\n",
      "(4, sepal length (cm)         5\n",
      "sepal width (cm)        3.6\n",
      "petal length (cm)       1.4\n",
      "petal width (cm)        0.2\n",
      "class                     0\n",
      "class_name           setosa\n",
      "Name: 4, dtype: object)\n",
      "(5, sepal length (cm)       5.4\n",
      "sepal width (cm)        3.9\n",
      "petal length (cm)       1.7\n",
      "petal width (cm)        0.4\n",
      "class                     0\n",
      "class_name           setosa\n",
      "Name: 5, dtype: object)\n",
      "(6, sepal length (cm)       4.6\n",
      "sepal width (cm)        3.4\n",
      "petal length (cm)       1.4\n",
      "petal width (cm)        0.3\n",
      "class                     0\n",
      "class_name           setosa\n",
      "Name: 6, dtype: object)\n",
      "(7, sepal length (cm)         5\n",
      "sepal width (cm)        3.4\n",
      "petal length (cm)       1.5\n",
      "petal width (cm)        0.2\n",
      "class                     0\n",
      "class_name           setosa\n",
      "Name: 7, dtype: object)\n",
      "(8, sepal length (cm)       4.4\n",
      "sepal width (cm)        2.9\n",
      "petal length (cm)       1.4\n",
      "petal width (cm)        0.2\n",
      "class                     0\n",
      "class_name           setosa\n",
      "Name: 8, dtype: object)\n",
      "(9, sepal length (cm)       4.9\n",
      "sepal width (cm)        3.1\n",
      "petal length (cm)       1.5\n",
      "petal width (cm)        0.1\n",
      "class                     0\n",
      "class_name           setosa\n",
      "Name: 9, dtype: object)\n"
     ]
    }
   ],
   "source": [
    "for i in range(10):\n",
    "    print(next(it))"
   ]
  },
  {
   "cell_type": "code",
   "execution_count": 199,
   "metadata": {},
   "outputs": [
    {
     "name": "stdout",
     "output_type": "stream",
     "text": [
      "[True, True, True, True, True, False]\n",
      "[5.1, 3.5, 1.4, 0.2, 0, 'setosa']\n"
     ]
    }
   ],
   "source": [
    "for i, row in df.iterrows():\n",
    "    print([isinstance(i, numbers.Number) for i in row])\n",
    "    print([i for i in row])\n",
    "    break"
   ]
  },
  {
   "cell_type": "code",
   "execution_count": 223,
   "metadata": {},
   "outputs": [],
   "source": [
    "def f(idx, row):\n",
    "    fig = plt.figure()\n",
    "    plt.plot([i for i in row if isinstance(i, numbers.Number)])\n",
    "    plt.close(fig)\n",
    "    return fig"
   ]
  },
  {
   "cell_type": "code",
   "execution_count": 257,
   "metadata": {},
   "outputs": [],
   "source": [
    "class DataFrameLabeler():\n",
    "    def __init__(self, data, *, label_col = None, labels = None, plotter = None):\n",
    "        self.data = data\n",
    "        if label_col is not None:\n",
    "            self.options = self.data[label_col].unique()\n",
    "        elif labels is not None:\n",
    "            self.options = labels\n",
    "        else:\n",
    "            raise ValueError('Either label_col or labels must be set.')\n",
    "        \n",
    "        self.out1 = widgets.Output()\n",
    "        self.out2 = widgets.Output()\n",
    "        self.out3 = widgets.Output()\n",
    "        self.out4 = widgets.Output()\n",
    "        \n",
    "        self.samples_batch = 4\n",
    "        self.remaining_idx = self.data.index\n",
    "        self.plotter = plotter\n",
    "        self.it = self.data.iterrows()\n",
    "        self.i = 0\n",
    "\n",
    "        self.render()\n",
    " \n",
    "    def make_selection(self, row):\n",
    "        return widgets.ToggleButtons(options=self.options,\n",
    "                                     orientation='horizontal',\n",
    "                                    value=)\n",
    "    \n",
    "    def make_box(self, out, row):\n",
    "        out.clear_output()\n",
    "        with out:\n",
    "            display(self.plotter(row[0], row[1]))\n",
    "        return widgets.VBox([self.make_selection(row[1]), out])\n",
    "    \n",
    "    def make_row(self, outs, rows):\n",
    "        return widgets.HBox([self.make_box(outs[0], rows[0]), self.make_box(outs[1], rows[1])])\n",
    "    \n",
    "    def make_next_button(self, handler=None):\n",
    "        btn = widgets.Button(description='Next',\n",
    "                              layout=Layout(width='100%', height='40px'))\n",
    "        if handler is not None:\n",
    "            btn.on_click(handler)\n",
    "        return btn\n",
    "    \n",
    "    def next_batch(self, _):\n",
    "        self.render()\n",
    "        \n",
    "    def render(self):\n",
    "        clear_output()\n",
    "        \n",
    "        rows = [next(self.it) for i in range(4)]\n",
    "        \n",
    "        display(widgets.VBox([self.make_row([self.out1, self.out2], rows[:2]),\n",
    "                              self.make_row([self.out3, self.out4], rows[2:]),\n",
    "                              self.make_next_button(handler=self.next_batch)]))"
   ]
  },
  {
   "cell_type": "code",
   "execution_count": 258,
   "metadata": {
    "scrolled": false
   },
   "outputs": [
    {
     "data": {
      "application/vnd.jupyter.widget-view+json": {
       "model_id": "14ceb19e74994d3b92c93c38e32ba668",
       "version_major": 2,
       "version_minor": 0
      },
      "text/plain": [
       "VBox(children=(HBox(children=(VBox(children=(ToggleButtons(options=('setosa', 'versicolor', 'virginica'), valu…"
      ]
     },
     "metadata": {},
     "output_type": "display_data"
    },
    {
     "data": {
      "text/plain": [
       "<__main__.DataFrameLabeler at 0x7f3267d8a8d0>"
      ]
     },
     "execution_count": 258,
     "metadata": {},
     "output_type": "execute_result"
    }
   ],
   "source": [
    "DataFrameLabeler(df, label_col='class_name', plotter=f)"
   ]
  },
  {
   "cell_type": "code",
   "execution_count": 34,
   "metadata": {},
   "outputs": [],
   "source": [
    "out1 = widgets.Output(layout={'border': '1px solid black'})\n",
    "out2 = widgets.Output(layout={'border': '1px solid black'})"
   ]
  },
  {
   "cell_type": "code",
   "execution_count": 94,
   "metadata": {},
   "outputs": [],
   "source": [
    "fig = plt.figure()\n",
    "plt.plot(df['sepal width (cm)'])\n",
    "plt.close(fig)"
   ]
  },
  {
   "cell_type": "code",
   "execution_count": 81,
   "metadata": {},
   "outputs": [],
   "source": [
    "with out1:\n",
    "    for i in range(10):\n",
    "        out1.clear_output()\n",
    "        print(i, 'Hello world!')"
   ]
  },
  {
   "cell_type": "code",
   "execution_count": 96,
   "metadata": {},
   "outputs": [],
   "source": [
    "with out2:\n",
    "    out2.clear_output()\n",
    "    display(f())"
   ]
  },
  {
   "cell_type": "code",
   "execution_count": null,
   "metadata": {},
   "outputs": [],
   "source": [
    "widgets.ButtonStyle()"
   ]
  }
 ],
 "metadata": {
  "kernelspec": {
   "display_name": "Python [conda env:jupy] *",
   "language": "python",
   "name": "conda-env-jupy-py"
  },
  "language_info": {
   "codemirror_mode": {
    "name": "ipython",
    "version": 3
   },
   "file_extension": ".py",
   "mimetype": "text/x-python",
   "name": "python",
   "nbconvert_exporter": "python",
   "pygments_lexer": "ipython3",
   "version": "3.7.3"
  }
 },
 "nbformat": 4,
 "nbformat_minor": 2
}
